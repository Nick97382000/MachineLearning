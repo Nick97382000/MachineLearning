{
  "cells": [
    {
      "cell_type": "markdown",
      "metadata": {
        "id": "AOpuzlP_ll0h"
      },
      "source": [
        "## 1 Concatenare due array di stringhe:\n"
      ]
    },
    {
      "cell_type": "code",
      "execution_count": 15,
      "metadata": {
        "id": "gSwJ1yf6ll0k",
        "outputId": "63250686-41c6-49fd-d9cf-8585e5ff1550",
        "colab": {
          "base_uri": "https://localhost:8080/"
        }
      },
      "outputs": [
        {
          "output_type": "stream",
          "name": "stdout",
          "text": [
            "Array concatenato: ['hello' 'world' 'good' 'morning']\n"
          ]
        }
      ],
      "source": [
        "import numpy as np\n",
        "\n",
        "array1 = np.array([\"hello\", \"world\"])\n",
        "array2 = np.array([\"good\", \"morning\"])\n",
        "\n",
        "concatenated_array = np.concatenate((array1, array2))\n",
        "\n",
        "print(\"Array concatenato:\", concatenated_array)"
      ]
    },
    {
      "cell_type": "markdown",
      "metadata": {
        "id": "_rfs_xemll0m"
      },
      "source": [
        "## 2 Trova la lunghezza di ciascuna stringa nell'array:"
      ]
    },
    {
      "cell_type": "code",
      "execution_count": null,
      "metadata": {
        "id": "PB-PVe7Gll0m",
        "outputId": "c2462b52-d38b-47ee-d15e-30bcff9bf553"
      },
      "outputs": [
        {
          "name": "stdout",
          "output_type": "stream",
          "text": [
            "Lunghezza di ciascuna stringa: [5 6 4]\n"
          ]
        }
      ],
      "source": [
        "#vectorize\n",
        "import numpy as np\n",
        "\n",
        "array = np.array([\"apple\", \"banana\", \"kiwi\"])\n",
        "\n",
        "lengths = array\n",
        "\n",
        "print(\"Lunghezza di ciascuna stringa:\", lengths)"
      ]
    },
    {
      "cell_type": "markdown",
      "metadata": {
        "id": "L2inlIlgll0n"
      },
      "source": [
        "## 3 Convertire tutte le stringhe in maiuscolo:\n"
      ]
    },
    {
      "cell_type": "code",
      "execution_count": null,
      "metadata": {
        "id": "PA9gVKWill0n",
        "outputId": "ce6064cd-0fbb-4ff6-df83-5d3ab2fd587f"
      },
      "outputs": [
        {
          "name": "stdout",
          "output_type": "stream",
          "text": [
            "Stringhe in maiuscolo: ['HELLO' 'WORLD']\n"
          ]
        }
      ],
      "source": [
        "#char\n",
        "import numpy as np\n",
        "\n",
        "array = np.array([\"hello\", \"world\"])\n",
        "\n",
        "print(\"Stringhe in maiuscolo:\", uppercase_array)"
      ]
    },
    {
      "cell_type": "markdown",
      "metadata": {
        "id": "OBDjCwdDll0o"
      },
      "source": [
        "## 4 Contare il numero totale di caratteri in tutto l'array:\n"
      ]
    },
    {
      "cell_type": "code",
      "execution_count": null,
      "metadata": {
        "id": "OLLcsJDKll0o",
        "outputId": "48d59f25-bf62-4042-a674-3673a0a78ebd"
      },
      "outputs": [
        {
          "name": "stdout",
          "output_type": "stream",
          "text": [
            "Numero totale di caratteri: 15\n"
          ]
        }
      ],
      "source": [
        "import numpy as np\n",
        "\n",
        "array = np.array([\"apple\", \"banana\", \"kiwi\"])\n",
        "\n",
        "print(\"Numero totale di caratteri:\", total_characters)"
      ]
    },
    {
      "cell_type": "markdown",
      "metadata": {
        "id": "yMcNXca4ll0p"
      },
      "source": [
        "## 5 Trova l'indice della stringa più lunga:\n"
      ]
    },
    {
      "cell_type": "code",
      "execution_count": null,
      "metadata": {
        "id": "0MEaiDnIll0p",
        "outputId": "e5e3bae8-6963-45d5-90c1-03f885a05d9e"
      },
      "outputs": [
        {
          "name": "stdout",
          "output_type": "stream",
          "text": [
            "Indice della stringa più lunga: 1\n"
          ]
        }
      ],
      "source": [
        "#argmax\n",
        "import numpy as np\n",
        "\n",
        "array = np.array([\"apple\", \"banana\", \"kiwi\"])\n",
        "\n",
        "print(\"Indice della stringa più lunga:\", index_longest_string)"
      ]
    },
    {
      "cell_type": "markdown",
      "metadata": {
        "id": "fvl6eW0oll0q"
      },
      "source": [
        "## 6 Verifica se ogni stringa inizia con una determinata sottostringa:\n"
      ]
    },
    {
      "cell_type": "code",
      "execution_count": null,
      "metadata": {
        "id": "C2NigKsIll0q",
        "outputId": "d73bd639-7e98-4aad-db92-fc78f63f83ce"
      },
      "outputs": [
        {
          "name": "stdout",
          "output_type": "stream",
          "text": [
            "Inizia con 'a': [ True False False]\n"
          ]
        }
      ],
      "source": [
        "#char\n",
        "import numpy as np\n",
        "\n",
        "array = np.array([\"apple\", \"banana\", \"kiwi\"])\n",
        "\n",
        "print(\"Inizia con 'a':\", starts_with_a)"
      ]
    },
    {
      "cell_type": "markdown",
      "metadata": {
        "id": "sNxbm_TQll0q"
      },
      "source": [
        "## 7 Contare il numero di stringhe uniche:\n"
      ]
    },
    {
      "cell_type": "code",
      "execution_count": null,
      "metadata": {
        "id": "10GRSbuQll0q",
        "outputId": "9efb1e05-c48d-4b2b-8c5b-13c48d7e7814"
      },
      "outputs": [
        {
          "name": "stdout",
          "output_type": "stream",
          "text": [
            "Numero di stringhe uniche: 3\n"
          ]
        }
      ],
      "source": [
        "import numpy as np\n",
        "\n",
        "array = np.array([\"apple\", \"banana\", \"kiwi\", \"apple\"])\n",
        "\n",
        "print(\"Numero di stringhe uniche:\", unique_count)"
      ]
    },
    {
      "cell_type": "markdown",
      "metadata": {
        "id": "A5TzwY1Ell0r"
      },
      "source": [
        "## 8 Unire tutte le stringhe in un'unica stringa:\n"
      ]
    },
    {
      "cell_type": "code",
      "execution_count": null,
      "metadata": {
        "id": "qg1KyP60ll0r",
        "outputId": "f5261090-a9a9-45c5-d2f1-b8166d7b7e07"
      },
      "outputs": [
        {
          "name": "stdout",
          "output_type": "stream",
          "text": [
            "Stringa risultante: ['hello Python' 'world Python']\n"
          ]
        }
      ],
      "source": [
        "#char\n",
        "import numpy as np\n",
        "\n",
        "array = np.array([\"hello\", \"world\"])\n",
        "joined_string = np.char.add(array, \" \")\n",
        "result =\n",
        "print(\"Stringa risultante:\", result)"
      ]
    },
    {
      "cell_type": "markdown",
      "metadata": {
        "id": "ei36_3-9ll0r"
      },
      "source": [
        "## 9 Verificare se una determinata sottostringa è presente in ogni stringa:\n"
      ]
    },
    {
      "cell_type": "code",
      "execution_count": null,
      "metadata": {
        "id": "-mavkDt1ll0r",
        "outputId": "6af4b673-2d9d-47fd-b8fe-f588b7b4b544"
      },
      "outputs": [
        {
          "name": "stdout",
          "output_type": "stream",
          "text": [
            "Contiene 'ki': [False False  True]\n"
          ]
        }
      ],
      "source": [
        "#list compr\n",
        "import numpy as np\n",
        "\n",
        "array = np.array([\"apple\", \"banana\", \"kiwi\"])\n",
        "\n",
        "print(\"Contiene 'ki':\", contains_ki)"
      ]
    },
    {
      "cell_type": "markdown",
      "metadata": {
        "id": "xLlT4OfVll0r"
      },
      "source": [
        "## 10 Sostituire una sottostringa con un'altra in tutte le stringhe:\n"
      ]
    },
    {
      "cell_type": "code",
      "execution_count": null,
      "metadata": {
        "id": "_qCG3f8qll0r",
        "outputId": "c9e6c363-8181-492e-be70-fe71f780b4f5"
      },
      "outputs": [
        {
          "name": "stdout",
          "output_type": "stream",
          "text": [
            "Array con sostituzioni: ['Xpple' 'bXnXnX' 'kiwi']\n"
          ]
        }
      ],
      "source": [
        "#char\n",
        "import numpy as np\n",
        "\n",
        "array = np.array([\"apple\", \"banana\", \"kiwi\"])\n",
        "\n",
        "print(\"Array con sostituzioni:\", replaced_array)"
      ]
    },
    {
      "cell_type": "code",
      "execution_count": null,
      "metadata": {
        "id": "HoTJxgcXll0s"
      },
      "outputs": [],
      "source": []
    }
  ],
  "metadata": {
    "kernelspec": {
      "display_name": "Python 3",
      "language": "python",
      "name": "python3"
    },
    "language_info": {
      "codemirror_mode": {
        "name": "ipython",
        "version": 3
      },
      "file_extension": ".py",
      "mimetype": "text/x-python",
      "name": "python",
      "nbconvert_exporter": "python",
      "pygments_lexer": "ipython3",
      "version": "3.10.11"
    },
    "colab": {
      "provenance": []
    }
  },
  "nbformat": 4,
  "nbformat_minor": 0
}